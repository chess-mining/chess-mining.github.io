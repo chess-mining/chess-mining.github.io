{
 "cells": [
  {
   "cell_type": "code",
   "execution_count": 1,
   "metadata": {
    "collapsed": true
   },
   "outputs": [],
   "source": [
    "import pandas as pd\n",
    "import matplotlib.pyplot as plt\n",
    "import seaborn as sns\n",
    "import plotly\n",
    "import plotly.plotly as py\n",
    "%matplotlib inline"
   ]
  },
  {
   "cell_type": "code",
   "execution_count": 2,
   "metadata": {
    "collapsed": true
   },
   "outputs": [],
   "source": [
    "moves = pd.read_hdf('/home/grobleke/OTB.h5', mode='r', key='moves')\n",
    "moves = moves[moves.Ply <= 10]\n",
    "moves = moves[['GameID', 'Ply', 'MovedPiece', 'SourceCol', 'SourceRow', 'DestCol', 'DestRow']]"
   ]
  },
  {
   "cell_type": "code",
   "execution_count": 3,
   "metadata": {
    "collapsed": true
   },
   "outputs": [],
   "source": [
    "games = pd.read_hdf('/home/grobleke/OTB.h5', mode='r', key='games')\n",
    "games = games[['GameID', 'Outcome']]"
   ]
  },
  {
   "cell_type": "code",
   "execution_count": 4,
   "metadata": {
    "collapsed": true
   },
   "outputs": [],
   "source": [
    "def transform_col(i):\n",
    "    return chr(ord('a') + i)\n",
    "\n",
    "def transform_row(i):\n",
    "    return i+1\n",
    "\n",
    "def add_suffixes(df, i, label):\n",
    "    ret = df[df.Ply == i].drop('Ply', axis=1)\n",
    "    cols = ['MovedPiece', 'SourceCol', 'SourceRow', 'DestCol', 'DestRow']\n",
    "    for col in cols:\n",
    "        new_name = (col + '_' + label)\n",
    "        ret.rename(columns={col: new_name}, inplace = True)\n",
    "        if col in ['SourceCol', 'DestCol']:\n",
    "            ret[new_name] = ret[new_name].map(transform_col)\n",
    "        elif col in ['SourceRow', 'DestRow']:\n",
    "            ret[new_name] = ret[new_name].map(transform_row)\n",
    "    return ret"
   ]
  },
  {
   "cell_type": "code",
   "execution_count": 5,
   "metadata": {
    "collapsed": true
   },
   "outputs": [],
   "source": [
    "white_moves_1 = add_suffixes(moves, 1, 'w1')\n",
    "white_moves_2 = add_suffixes(moves, 3, 'w2')\n",
    "white_moves_3 = add_suffixes(moves, 5, 'w3')\n",
    "white_moves_4 = add_suffixes(moves, 7, 'w4')\n",
    "white_moves_5 = add_suffixes(moves, 9, 'w5')\n",
    "\n",
    "black_moves_1 = add_suffixes(moves, 2, 'b1')\n",
    "black_moves_2 = add_suffixes(moves, 4, 'b2')\n",
    "black_moves_3 = add_suffixes(moves, 6, 'b3')\n",
    "black_moves_4 = add_suffixes(moves, 8, 'b4')\n",
    "black_moves_5 = add_suffixes(moves, 10, 'b5')"
   ]
  },
  {
   "cell_type": "code",
   "execution_count": 6,
   "metadata": {
    "collapsed": true
   },
   "outputs": [],
   "source": [
    "common_attrs = ['GameID']\n",
    "full_opening_book_1 = white_moves_1\n",
    "full_opening_book_2 = pd.merge(full_opening_book_1, black_moves_1, on=common_attrs)\n",
    "full_opening_book_3 = pd.merge(full_opening_book_2, white_moves_2, on=common_attrs)\n",
    "full_opening_book_4 = pd.merge(full_opening_book_3, black_moves_2, on=common_attrs)\n",
    "full_opening_book_5 = pd.merge(full_opening_book_4, white_moves_3, on=common_attrs)\n",
    "full_opening_book_6 = pd.merge(full_opening_book_5, black_moves_3, on=common_attrs)\n",
    "full_opening_book_7 = pd.merge(full_opening_book_6, white_moves_4, on=common_attrs)\n",
    "full_opening_book_8 = pd.merge(full_opening_book_7, black_moves_4, on=common_attrs)\n",
    "full_opening_book_9 = pd.merge(full_opening_book_8, white_moves_5, on=common_attrs)\n",
    "full_opening_book_10 = pd.merge(full_opening_book_9, black_moves_5, on=common_attrs)"
   ]
  },
  {
   "cell_type": "code",
   "execution_count": 64,
   "metadata": {
    "collapsed": true
   },
   "outputs": [],
   "source": [
    "num_games = games.GameID.nunique()\n",
    "freq_threshold = 0.01\n",
    "num_threshold = num_games * freq_threshold"
   ]
  },
  {
   "cell_type": "code",
   "execution_count": 8,
   "metadata": {
    "collapsed": true
   },
   "outputs": [],
   "source": [
    "def get_move_str(row, n):\n",
    "    ret = \"\"\n",
    "    for i in range(1, n+1):\n",
    "        if i % 2 == 0:\n",
    "            suffix = 'b' + str(int(i/2))\n",
    "        else:\n",
    "            suffix = 'w' + str(int((i+1)/2))\n",
    "        piece = row['MovedPiece_' + suffix]\n",
    "        source_col = row['SourceCol_' + suffix]\n",
    "        source_row = row['SourceRow_' + suffix]\n",
    "        dest_col = row['DestCol_' + suffix]\n",
    "        dest_row = row['DestRow_' + suffix]\n",
    "\n",
    "        ret = ret + \"%s%s%s -> %s%s, \" % (piece, source_col, source_row, dest_col, dest_row)\n",
    "    return ret[:-2].replace(\"\\n\", '')"
   ]
  },
  {
   "cell_type": "code",
   "execution_count": 44,
   "metadata": {
    "collapsed": true
   },
   "outputs": [],
   "source": [
    "def get_bias(game_ids):\n",
    "    total = game_ids.size\n",
    "    relevant_games = games[games.GameID.isin(game_ids)]\n",
    "    white_wins = relevant_games[relevant_games.Outcome == 'w'].shape[0]\n",
    "    black_wins = relevant_games[relevant_games.Outcome == 'b'].shape[0]\n",
    "    return (white_wins - black_wins)/total"
   ]
  },
  {
   "cell_type": "code",
   "execution_count": 81,
   "metadata": {
    "collapsed": true
   },
   "outputs": [],
   "source": [
    "group_cols_1 = full_opening_book_1.columns.drop('GameID').values\n",
    "group_1 = full_opening_book_1.groupby(list(group_cols_1))\n",
    "group_1 = group_1.filter(lambda x: x.GameID.size > num_threshold).groupby(list(group_cols_1))\n",
    "win_bias_1 = group_1.apply(lambda x: get_bias(x.GameID)).reset_index(name='bias')\n",
    "openings_1 = group_1.size().reset_index(name='count')\n",
    "openings_1['bias'] = win_bias_1.bias\n",
    "openings_1 = openings_1.sort_values('count', ascending=False)\n",
    "openings_1['str'] = openings_1.apply(lambda x: get_move_str(x, 1), axis=1)"
   ]
  },
  {
   "cell_type": "code",
   "execution_count": 77,
   "metadata": {
    "collapsed": true
   },
   "outputs": [],
   "source": [
    "group_cols_2 = full_opening_book_2.columns.drop('GameID').values\n",
    "group_2 = full_opening_book_2.groupby(list(group_cols_2))\n",
    "group_2 = group_2.filter(lambda x: x.GameID.size > num_threshold).groupby(list(group_cols_2))\n",
    "win_bias_2 = group_2.apply(lambda x: get_bias(x.GameID)).reset_index(name='bias')\n",
    "openings_2 = group_2.size().reset_index(name='count')\n",
    "openings_2['bias'] = win_bias_2.bias\n",
    "openings_2 = openings_2.sort_values('count', ascending=False)\n",
    "openings_2['str'] = openings_2.apply(lambda x: get_move_str(x, 2), axis=1)"
   ]
  },
  {
   "cell_type": "code",
   "execution_count": 79,
   "metadata": {
    "collapsed": true
   },
   "outputs": [],
   "source": [
    "group_cols_3 = full_opening_book_3.columns.drop('GameID').values\n",
    "group_3 = full_opening_book_3.groupby(list(group_cols_3))\n",
    "group_3 = group_3.filter(lambda x: x.GameID.size > num_threshold).groupby(list(group_cols_3))\n",
    "win_bias_3 = group_3.apply(lambda x: get_bias(x.GameID)).reset_index(name='bias')\n",
    "openings_3 = group_3.size().reset_index(name='count')\n",
    "openings_3['bias'] = win_bias_3.bias\n",
    "openings_3 = openings_3.sort_values('count', ascending=False)\n",
    "openings_3['str'] = openings_3.apply(lambda x: get_move_str(x, 3), axis=1)"
   ]
  },
  {
   "cell_type": "code",
   "execution_count": 80,
   "metadata": {
    "collapsed": true
   },
   "outputs": [],
   "source": [
    "group_cols_4 = full_opening_book_4.columns.drop('GameID').values\n",
    "group_4 = full_opening_book_4.groupby(list(group_cols_4))\n",
    "group_4 = group_4.filter(lambda x: x.GameID.size > num_threshold).groupby(list(group_cols_4))\n",
    "win_bias_4 = group_4.apply(lambda x: get_bias(x.GameID)).reset_index(name='bias')\n",
    "openings_4 = group_4.size().reset_index(name='count')\n",
    "openings_4['bias'] = win_bias_4.bias\n",
    "openings_4 = openings_4.sort_values('count', ascending=False)\n",
    "openings_4['str'] = openings_4.apply(lambda x: get_move_str(x, 4), axis=1)"
   ]
  },
  {
   "cell_type": "code",
   "execution_count": 91,
   "metadata": {
    "collapsed": true
   },
   "outputs": [],
   "source": [
    "group_cols_5 = full_opening_book_5.columns.drop('GameID').values\n",
    "group_5 = full_opening_book_5.groupby(list(group_cols_5))\n",
    "group_5 = group_5.filter(lambda x: x.GameID.size > num_threshold).groupby(list(group_cols_5))\n",
    "win_bias_5 = group_5.apply(lambda x: get_bias(x.GameID)).reset_index(name='bias')\n",
    "openings_5 = group_5.size().reset_index(name='count')\n",
    "openings_5['bias'] = win_bias_5.bias\n",
    "openings_5 = openings_5.sort_values('count', ascending=False)\n",
    "openings_5['str'] = openings_5.apply(lambda x: get_move_str(x, 5), axis=1)"
   ]
  },
  {
   "cell_type": "code",
   "execution_count": 92,
   "metadata": {
    "collapsed": true
   },
   "outputs": [],
   "source": [
    "group_cols_6 = full_opening_book_6.columns.drop('GameID').values\n",
    "group_6 = full_opening_book_6.groupby(list(group_cols_6))\n",
    "group_6 = group_6.filter(lambda x: x.GameID.size > num_threshold).groupby(list(group_cols_6))\n",
    "win_bias_6 = group_6.apply(lambda x: get_bias(x.GameID)).reset_index(name='bias')\n",
    "openings_6 = group_6.size().reset_index(name='count')\n",
    "openings_6['bias'] = win_bias_6.bias\n",
    "openings_6 = openings_6.sort_values('count', ascending=False)\n",
    "openings_6['str'] = openings_6.apply(lambda x: get_move_str(x, 6), axis=1)"
   ]
  },
  {
   "cell_type": "code",
   "execution_count": 99,
   "metadata": {
    "collapsed": true
   },
   "outputs": [],
   "source": [
    "group_cols_7 = full_opening_book_7.columns.drop('GameID').values\n",
    "group_7 = full_opening_book_7.groupby(list(group_cols_7))\n",
    "group_7 = group_7.filter(lambda x: x.GameID.size > num_threshold).groupby(list(group_cols_7))\n",
    "win_bias_7 = group_7.apply(lambda x: get_bias(x.GameID)).reset_index(name='bias')\n",
    "openings_7 = group_7.size().reset_index(name='count')\n",
    "openings_7['bias'] = win_bias_7.bias\n",
    "openings_7 = openings_7.sort_values('count', ascending=False)\n",
    "openings_7['str'] = openings_7.apply(lambda x: get_move_str(x, 7), axis=1)"
   ]
  },
  {
   "cell_type": "code",
   "execution_count": 98,
   "metadata": {
    "collapsed": true
   },
   "outputs": [],
   "source": [
    "group_cols_8 = full_opening_book_8.columns.drop('GameID').values\n",
    "group_8 = full_opening_book_8.groupby(list(group_cols_8))\n",
    "group_8 = group_8.filter(lambda x: x.GameID.size > num_threshold).groupby(list(group_cols_8))\n",
    "win_bias_8 = group_8.apply(lambda x: get_bias(x.GameID)).reset_index(name='bias')\n",
    "openings_8 = group_8.size().reset_index(name='count')\n",
    "openings_8['bias'] = win_bias_8.bias\n",
    "openings_8 = openings_8.sort_values('count', ascending=False)\n",
    "openings_8['str'] = openings_8.apply(lambda x: get_move_str(x, 8), axis=1)"
   ]
  },
  {
   "cell_type": "code",
   "execution_count": 102,
   "metadata": {
    "collapsed": true
   },
   "outputs": [],
   "source": [
    "group_cols_9 = full_opening_book_9.columns.drop('GameID').values\n",
    "group_9 = full_opening_book_9.groupby(list(group_cols_9))\n",
    "group_9 = group_9.filter(lambda x: x.GameID.size > num_threshold).groupby(list(group_cols_9))\n",
    "win_bias_9 = group_9.apply(lambda x: get_bias(x.GameID)).reset_index(name='bias')\n",
    "openings_9 = group_9.size().reset_index(name='count')\n",
    "openings_9['bias'] = win_bias_9.bias\n",
    "openings_9 = openings_9.sort_values('count', ascending=False)\n",
    "openings_9['str'] = openings_9.apply(lambda x: get_move_str(x, 9), axis=1)"
   ]
  },
  {
   "cell_type": "code",
   "execution_count": 103,
   "metadata": {
    "collapsed": true
   },
   "outputs": [],
   "source": [
    "group_cols_10 = full_opening_book_10.columns.drop('GameID').values\n",
    "group_10 = full_opening_book_10.groupby(list(group_cols_10))\n",
    "group_10 = group_10.filter(lambda x: x.GameID.size > num_threshold).groupby(list(group_cols_10))\n",
    "win_bias_10 = group_10.apply(lambda x: get_bias(x.GameID)).reset_index(name='bias')\n",
    "openings_10 = group_10.size().reset_index(name='count')\n",
    "openings_10['bias'] = win_bias_10.bias\n",
    "openings_10 = openings_10.sort_values('count', ascending=False)\n",
    "openings_10['str'] = openings_10.apply(lambda x: get_move_str(x, 10), axis=1)"
   ]
  },
  {
   "cell_type": "code",
   "execution_count": 104,
   "metadata": {
    "collapsed": true
   },
   "outputs": [],
   "source": [
    "opening_freq = openings_1[['count', 'str', 'bias']]\n",
    "for df in [openings_2, openings_3, openings_4, openings_5,\n",
    "           openings_6, openings_7, openings_8, openings_9, openings_10]:\n",
    "    opening_freq = opening_freq.append(df[['count', 'str', 'bias']])"
   ]
  },
  {
   "cell_type": "code",
   "execution_count": 105,
   "metadata": {
    "collapsed": true
   },
   "outputs": [],
   "source": [
    "opening_freq.to_csv('/home/grobleke/opening_freq.csv')"
   ]
  },
  {
   "cell_type": "code",
   "execution_count": 88,
   "metadata": {},
   "outputs": [
    {
     "data": {
      "text/plain": [
       "0.08331727311837517"
      ]
     },
     "execution_count": 88,
     "metadata": {},
     "output_type": "execute_result"
    }
   ],
   "source": [
    "(games[games.Outcome == 'w'].shape[0] - games[games.Outcome == 'b'].shape[0])/num_games"
   ]
  },
  {
   "cell_type": "code",
   "execution_count": 90,
   "metadata": {},
   "outputs": [
    {
     "data": {
      "text/plain": [
       "w    2458650\n",
       "b    1933817\n",
       "s    1894877\n",
       "Name: Outcome, dtype: int64"
      ]
     },
     "execution_count": 90,
     "metadata": {},
     "output_type": "execute_result"
    }
   ],
   "source": [
    "games.Outcome.value_counts()"
   ]
  },
  {
   "cell_type": "code",
   "execution_count": null,
   "metadata": {
    "collapsed": true
   },
   "outputs": [],
   "source": []
  }
 ],
 "metadata": {
  "kernelspec": {
   "display_name": "Python 3",
   "language": "python",
   "name": "python3"
  },
  "language_info": {
   "codemirror_mode": {
    "name": "ipython",
    "version": 3
   },
   "file_extension": ".py",
   "mimetype": "text/x-python",
   "name": "python",
   "nbconvert_exporter": "python",
   "pygments_lexer": "ipython3",
   "version": "3.6.2"
  }
 },
 "nbformat": 4,
 "nbformat_minor": 2
}
