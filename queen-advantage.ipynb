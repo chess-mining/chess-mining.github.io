{
 "cells": [
  {
   "cell_type": "code",
   "execution_count": 1,
   "metadata": {
    "collapsed": true
   },
   "outputs": [],
   "source": [
    "import pandas as pd\n",
    "import matplotlib.pyplot as plt\n",
    "import seaborn as sns\n",
    "from pandas.api.types import CategoricalDtype\n",
    "%matplotlib inline"
   ]
  },
  {
   "cell_type": "code",
   "execution_count": 3,
   "metadata": {},
   "outputs": [],
   "source": [
    "pd.to"
   ]
  },
  {
   "cell_type": "markdown",
   "metadata": {},
   "source": [
    "# Importing and Transforming Data"
   ]
  },
  {
   "cell_type": "code",
   "execution_count": 32,
   "metadata": {},
   "outputs": [
    {
     "data": {
      "text/html": [
       "<div>\n",
       "<style>\n",
       "    .dataframe thead tr:only-child th {\n",
       "        text-align: right;\n",
       "    }\n",
       "\n",
       "    .dataframe thead th {\n",
       "        text-align: left;\n",
       "    }\n",
       "\n",
       "    .dataframe tbody tr th {\n",
       "        vertical-align: top;\n",
       "    }\n",
       "</style>\n",
       "<table border=\"1\" class=\"dataframe\">\n",
       "  <thead>\n",
       "    <tr style=\"text-align: right;\">\n",
       "      <th></th>\n",
       "      <th>game_id</th>\n",
       "      <th>turn_color</th>\n",
       "      <th>turn_number</th>\n",
       "      <th>piece_moved</th>\n",
       "      <th>source_col</th>\n",
       "      <th>source_row</th>\n",
       "      <th>dest_col</th>\n",
       "      <th>dest_row</th>\n",
       "      <th>captured_piece</th>\n",
       "      <th>promotion_piece</th>\n",
       "      <th>check_state</th>\n",
       "      <th>castle_side</th>\n",
       "    </tr>\n",
       "  </thead>\n",
       "  <tbody>\n",
       "    <tr>\n",
       "      <th>0</th>\n",
       "      <td>1</td>\n",
       "      <td>w</td>\n",
       "      <td>1</td>\n",
       "      <td>P</td>\n",
       "      <td>4</td>\n",
       "      <td>1</td>\n",
       "      <td>4</td>\n",
       "      <td>3</td>\n",
       "      <td>NaN</td>\n",
       "      <td>NaN</td>\n",
       "      <td>NaN</td>\n",
       "      <td>NaN</td>\n",
       "    </tr>\n",
       "    <tr>\n",
       "      <th>1</th>\n",
       "      <td>1</td>\n",
       "      <td>b</td>\n",
       "      <td>2</td>\n",
       "      <td>p</td>\n",
       "      <td>3</td>\n",
       "      <td>6</td>\n",
       "      <td>3</td>\n",
       "      <td>4</td>\n",
       "      <td>NaN</td>\n",
       "      <td>NaN</td>\n",
       "      <td>NaN</td>\n",
       "      <td>NaN</td>\n",
       "    </tr>\n",
       "    <tr>\n",
       "      <th>2</th>\n",
       "      <td>1</td>\n",
       "      <td>w</td>\n",
       "      <td>3</td>\n",
       "      <td>P</td>\n",
       "      <td>4</td>\n",
       "      <td>3</td>\n",
       "      <td>3</td>\n",
       "      <td>4</td>\n",
       "      <td>p</td>\n",
       "      <td>NaN</td>\n",
       "      <td>NaN</td>\n",
       "      <td>NaN</td>\n",
       "    </tr>\n",
       "    <tr>\n",
       "      <th>3</th>\n",
       "      <td>1</td>\n",
       "      <td>b</td>\n",
       "      <td>4</td>\n",
       "      <td>q</td>\n",
       "      <td>3</td>\n",
       "      <td>7</td>\n",
       "      <td>3</td>\n",
       "      <td>4</td>\n",
       "      <td>P</td>\n",
       "      <td>NaN</td>\n",
       "      <td>NaN</td>\n",
       "      <td>NaN</td>\n",
       "    </tr>\n",
       "    <tr>\n",
       "      <th>4</th>\n",
       "      <td>1</td>\n",
       "      <td>w</td>\n",
       "      <td>5</td>\n",
       "      <td>N</td>\n",
       "      <td>1</td>\n",
       "      <td>0</td>\n",
       "      <td>2</td>\n",
       "      <td>2</td>\n",
       "      <td>NaN</td>\n",
       "      <td>NaN</td>\n",
       "      <td>NaN</td>\n",
       "      <td>NaN</td>\n",
       "    </tr>\n",
       "  </tbody>\n",
       "</table>\n",
       "</div>"
      ],
      "text/plain": [
       "   game_id turn_color  turn_number piece_moved  source_col  source_row  \\\n",
       "0        1          w            1           P           4           1   \n",
       "1        1          b            2           p           3           6   \n",
       "2        1          w            3           P           4           3   \n",
       "3        1          b            4           q           3           7   \n",
       "4        1          w            5           N           1           0   \n",
       "\n",
       "   dest_col  dest_row captured_piece promotion_piece check_state castle_side  \n",
       "0         4         3            NaN             NaN         NaN         NaN  \n",
       "1         3         4            NaN             NaN         NaN         NaN  \n",
       "2         3         4              p             NaN         NaN         NaN  \n",
       "3         3         4              P             NaN         NaN         NaN  \n",
       "4         2         2            NaN             NaN         NaN         NaN  "
      ]
     },
     "execution_count": 32,
     "metadata": {},
     "output_type": "execute_result"
    }
   ],
   "source": [
    "data = pd.read_csv(\"/home/grobleke/OTB_small.csv\")\n",
    "data.turn_color = data.turn_color.astype(\"category\")\n",
    "data.piece_moved = data.piece_moved.astype(\"category\")\n",
    "data.captured_piece = data.captured_piece.astype(\"category\")\n",
    "data.promotion_piece = data.promotion_piece.astype(\"category\")\n",
    "data.check_state = data.check_state.astype(\"category\")\n",
    "data.castle_side = data.castle_side.astype(\"category\")\n",
    "data.head()"
   ]
  },
  {
   "cell_type": "markdown",
   "metadata": {},
   "source": [
    "# Average Turns per Game"
   ]
  },
  {
   "cell_type": "code",
   "execution_count": 39,
   "metadata": {
    "collapsed": true
   },
   "outputs": [],
   "source": [
    "turns_per_game = data.groupby(\"game_id\")[\"turn_number\"].max()"
   ]
  },
  {
   "cell_type": "code",
   "execution_count": 40,
   "metadata": {},
   "outputs": [
    {
     "data": {
      "text/plain": [
       "67.520270270270274"
      ]
     },
     "execution_count": 40,
     "metadata": {},
     "output_type": "execute_result"
    }
   ],
   "source": [
    "turns_per_game.values.mean()"
   ]
  },
  {
   "cell_type": "markdown",
   "metadata": {},
   "source": [
    "# Death Map"
   ]
  },
  {
   "cell_type": "markdown",
   "metadata": {},
   "source": [
    "Unsuprisingly, the center of the map is where the action takes place."
   ]
  },
  {
   "cell_type": "code",
   "execution_count": 88,
   "metadata": {
    "collapsed": true
   },
   "outputs": [],
   "source": [
    "death_map = data.groupby([\"dest_row\", \"dest_col\"])[\"captured_piece\"].count()\n",
    "death_map = pd.DataFrame(death_map)\n",
    "death_map.columns = [\"death_toll\"]\n",
    "death_map = death_map.reset_index().pivot_table(index=\"dest_row\", columns=\"dest_col\")"
   ]
  },
  {
   "cell_type": "code",
   "execution_count": 92,
   "metadata": {},
   "outputs": [
    {
     "data": {
      "text/plain": [
       "<matplotlib.axes._subplots.AxesSubplot at 0x7f7910fd60b8>"
      ]
     },
     "execution_count": 92,
     "metadata": {},
     "output_type": "execute_result"
    },
    {
     "data": {
      "image/png": "[encoded data removed]",
      "text/plain": [
       "<matplotlib.figure.Figure at 0x7f79154da6d8>"
      ]
     },
     "metadata": {},
     "output_type": "display_data"
    }
   ],
   "source": [
    "sns.heatmap(death_map[\"death_toll\"], cmap=\"viridis\")"
   ]
  },
  {
   "cell_type": "markdown",
   "metadata": {},
   "source": [
    "# Promotion Selection"
   ]
  },
  {
   "cell_type": "markdown",
   "metadata": {},
   "source": [
    "Unsuprisingly, there are only 7 promotions among the first 152 games and, of those 7, the promotion has always been to a queen."
   ]
  },
  {
   "cell_type": "code",
   "execution_count": 44,
   "metadata": {},
   "outputs": [
    {
     "data": {
      "text/plain": [
       "queen    7\n",
       "Name: promotion_piece, dtype: int64"
      ]
     },
     "execution_count": 44,
     "metadata": {},
     "output_type": "execute_result"
    }
   ],
   "source": [
    "data.promotion_piece.value_counts()"
   ]
  },
  {
   "cell_type": "markdown",
   "metadata": {},
   "source": [
    "# Castle Side comparison"
   ]
  },
  {
   "cell_type": "code",
   "execution_count": 93,
   "metadata": {},
   "outputs": [
    {
     "data": {
      "text/plain": [
       "k    221\n",
       "q     20\n",
       "Name: castle_side, dtype: int64"
      ]
     },
     "execution_count": 93,
     "metadata": {},
     "output_type": "execute_result"
    }
   ],
   "source": [
    "data.castle_side.value_counts()"
   ]
  },
  {
   "cell_type": "markdown",
   "metadata": {},
   "source": [
    "# Queen Advantage"
   ]
  },
  {
   "cell_type": "markdown",
   "metadata": {},
   "source": [
    "If we define a queen advantage to be the number of turns between the two queen's death or the one of the queen's death and the end of the game. In general, the advantage is typically short lived. On average, the advantage last for about 4 turns; however, it is frequently the case that the queens are traded one after another. That is the queen advantage only last for one turn in most games."
   ]
  },
  {
   "cell_type": "code",
   "execution_count": 208,
   "metadata": {},
   "outputs": [
    {
     "name": "stdout",
     "output_type": "stream",
     "text": [
      "mean [ 4.04166667], median [ 1.] mode [[ 1.]]\n"
     ]
    }
   ],
   "source": [
    "# Get all turns where the queen of one of the players were captured.\n",
    "queen_captured = data[data.captured_piece.isin([\"q\", \"Q\"])]\n",
    "queen_captured.head()\n",
    "\n",
    "# Get the difference between the max and min for turns where the queen of one of the players were lost.\n",
    "queen_alive_max = pd.DataFrame(queen_captured.groupby(\"game_id\")[\"turn_number\"].max())\n",
    "queen_alive_min = pd.DataFrame(queen_captured.groupby(\"game_id\")[\"turn_number\"].min())\n",
    "queen_advantage = queen_alive_max - queen_alive_min\n",
    "\n",
    "# If there is a zero, it is due to where one of the queens remained alive the entire game (min == max)\n",
    "# We will backfill the data by getting the game_ids where there were an advantage of 0, get the max turn number,\n",
    "# get the difference between when the first queen was lost with the turn number, and merging it back with the queen\n",
    "# array.\n",
    "zero_advantage = queen_advantage[queen_advantage.turn_number == 0].reset_index().game_id.values\n",
    "games_with_zero_advantage = data[data.game_id.isin(zero_advantage)]\n",
    "max_turns_zero_advantage = pd.DataFrame(games_with_zero_advantage.groupby(\"game_id\")[\"turn_number\"].max())\n",
    "max_turns_zero_advantage = (max_turns_zero_advantage - queen_alive_min).dropna()\n",
    "queen_advantage = pd.merge(queen_advantage, max_turns_zero_advantage, how=\"left\", left_index=True, right_index=True)\n",
    "queen_advantage = pd.DataFrame(queen_advantage.turn_number_y.fillna(queen_advantage.turn_number_x))\n",
    "queen_advantage.columns = [\"advantage\"]\n",
    "print(\"mean {0}, median {1} mode {2}\".format(queen_advantage.mean().values,\n",
    "                                             queen_advantage.median().values,\n",
    "                                             queen_advantage.mode().values))"
   ]
  },
  {
   "cell_type": "markdown",
   "metadata": {},
   "source": [
    "# Number of checks per game"
   ]
  },
  {
   "cell_type": "code",
   "execution_count": 216,
   "metadata": {},
   "outputs": [
    {
     "data": {
      "text/plain": [
       "5.2407407407407405"
      ]
     },
     "execution_count": 216,
     "metadata": {},
     "output_type": "execute_result"
    }
   ],
   "source": [
    "data[data.check_state == \"+\"].groupby(\"game_id\")[\"turn_number\"].count().mean()"
   ]
  },
  {
   "cell_type": "markdown",
   "metadata": {},
   "source": [
    "# First Turn Advantage"
   ]
  },
  {
   "cell_type": "markdown",
   "metadata": {},
   "source": [
    "It seems that first turn advantage seems insignificant. We could do an association rule on this and check for lift and etc."
   ]
  },
  {
   "cell_type": "code",
   "execution_count": 229,
   "metadata": {
    "collapsed": true
   },
   "outputs": [],
   "source": [
    "last_turn_per_game = pd.DataFrame(data.groupby(\"game_id\")[\"turn_number\"].max())\n",
    "last_turn_per_game = last_turn_per_game.reset_index()"
   ]
  },
  {
   "cell_type": "code",
   "execution_count": 233,
   "metadata": {},
   "outputs": [
    {
     "data": {
      "text/plain": [
       "b    16\n",
       "w    12\n",
       "Name: turn_color, dtype: int64"
      ]
     },
     "execution_count": 233,
     "metadata": {},
     "output_type": "execute_result"
    }
   ],
   "source": [
    "final_move_per_game = pd.merge(last_turn_per_game, data[data.check_state == \"+\"],\n",
    "                               how=\"inner\", on=[\"game_id\", \"turn_number\"])\n",
    "final_move_per_game[\"turn_color\"].value_counts()"
   ]
  }
 ],
 "metadata": {
  "kernelspec": {
   "display_name": "Python 3",
   "language": "python",
   "name": "python3"
  },
  "language_info": {
   "codemirror_mode": {
    "name": "ipython",
    "version": 3
   },
   "file_extension": ".py",
   "mimetype": "text/x-python",
   "name": "python",
   "nbconvert_exporter": "python",
   "pygments_lexer": "ipython3",
   "version": "3.6.2"
  }
 },
 "nbformat": 4,
 "nbformat_minor": 2
}
